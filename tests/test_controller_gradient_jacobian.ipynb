{
 "cells": [
  {
   "cell_type": "code",
   "execution_count": 164,
   "metadata": {
    "collapsed": true,
    "pycharm": {
     "name": "#%%\n"
    }
   },
   "outputs": [],
   "source": [
    "import tensorflow as tf\n",
    "from src.dlmpc import DeepLearningMPCController\n",
    "from src.dlmpc import plant_model\n",
    "from src.dlmpc import optimizer\n",
    "import numpy as np"
   ]
  },
  {
   "cell_type": "code",
   "execution_count": 165,
   "outputs": [],
   "source": [
    "def multiplypredict(u,x):\n",
    "    y = tf.zeros((predict_horizon,1),dtype=tf.float32)\n",
    "    for i in range(predict_horizon):\n",
    "        if i >= control_horizon:\n",
    "            x = plant_model(x, u[-1])\n",
    "        else:\n",
    "            x = plant_model(x, u[i])\n",
    "        y = tf.tensor_scatter_nd_update(y, [[i, 0]], x)\n",
    "    return y"
   ],
   "metadata": {
    "collapsed": false,
    "pycharm": {
     "name": "#%%\n"
    }
   }
  },
  {
   "cell_type": "code",
   "execution_count": 166,
   "outputs": [],
   "source": [
    "def cost_function(y_ref, predict_y, u_sequence,u0,function_type='du'):\n",
    "    u0 = tf.expand_dims(u0, 1)\n",
    "    if tf.shape(u0)[1] != tf.shape(u_sequence)[1]:\n",
    "        u0 = tf.expand_dims(u0, 1)\n",
    "    new_u0 = tf.concat((u0, u_sequence[:-1]), axis=0)\n",
    "    delta_u = u_sequence - new_u0\n",
    "    # 计算跟踪误差\n",
    "    tracking_error = predict_y - y_ref\n",
    "    # 计算成本\n",
    "    # 注意：矩阵运算的顺序需要正确\n",
    "    if function_type == 'du':\n",
    "        cost = tf.transpose(tracking_error) @ Q @ tracking_error + tf.transpose(delta_u) @ R @ delta_u\n",
    "    elif function_type == 'u':\n",
    "        cost = tf.transpose(tracking_error) @ Q @ tracking_error + tf.transpose(u_sequence) @ R @ u_sequence\n",
    "    else:\n",
    "        cost = tf.transpose(tracking_error) @ Q @ tracking_error + tf.transpose(delta_u) @ Q @ delta_u + tf.transpose(u_sequence) @ R @ u_sequence\n",
    "    return cost"
   ],
   "metadata": {
    "collapsed": false,
    "pycharm": {
     "name": "#%%\n"
    }
   }
  },
  {
   "cell_type": "code",
   "execution_count": 167,
   "outputs": [],
   "source": [
    "def slove_cost_gradient(optimizer,y_ref,u_sequence,x,u0,function_type='du'):\n",
    "    with tf.GradientTape() as tape:\n",
    "        # 预测状态序列\n",
    "        y_pred_sequence = multiplypredict(u_sequence,x)\n",
    "        # 计算成本\n",
    "        cost = cost_function(y_ref, y_pred_sequence, u_sequence,u0,function_type)\n",
    "    # 计算梯度\n",
    "    gradients = tape.gradient(cost, u_sequence)\n",
    "    # 应用梯度\n",
    "    optimizer.apply_gradients(zip([gradients], [u_sequence]))\n",
    "    return cost, gradients,u_sequence"
   ],
   "metadata": {
    "collapsed": false,
    "pycharm": {
     "name": "#%%\n"
    }
   }
  },
  {
   "cell_type": "code",
   "execution_count": 168,
   "outputs": [],
   "source": [
    "def slove_cost_jacobian(y_ref,u_sequence,x,u0,function_type='du'):\n",
    "    with tf.GradientTape() as tape:\n",
    "        # 预测状态序列\n",
    "        y_pred_sequence = multiplypredict(u_sequence,x)\n",
    "        # 计算成本\n",
    "        cost = cost_function(y_ref, y_pred_sequence, u_sequence,u0,function_type)\n",
    "    # 计算梯度\n",
    "    jacobian = tape.jacobian(cost, u_sequence)\n",
    "    return cost, jacobian,u_sequence"
   ],
   "metadata": {
    "collapsed": false,
    "pycharm": {
     "name": "#%%\n"
    }
   }
  },
  {
   "cell_type": "code",
   "execution_count": 169,
   "outputs": [],
   "source": [
    "def slove_y_gradient(optimizer,u_sequence,x):\n",
    "    with tf.GradientTape() as tape:\n",
    "        # 预测状态序列\n",
    "        y_pred_sequence = multiplypredict(u_sequence,x)\n",
    "    # 计算梯度\n",
    "    gradients = tape.gradient(y_pred_sequence, u_sequence)\n",
    "    # 应用梯度\n",
    "    optimizer.apply_gradients(zip([gradients], [u_sequence]))\n",
    "    return y_pred_sequence,gradients, u_sequence"
   ],
   "metadata": {
    "collapsed": false,
    "pycharm": {
     "name": "#%%\n"
    }
   }
  },
  {
   "cell_type": "code",
   "execution_count": null,
   "outputs": [],
   "source": [
    "@tf.function\n",
    "def slove_y_jacobian(u_sequence,x):\n",
    "    with tf.GradientTape() as tape:\n",
    "        # 预测状态序列\n",
    "        y_pred_sequence = multiplypredict(u_sequence,x)\n",
    "    # 计算梯度\n",
    "    jacobian = tape.jacobian(y_pred_sequence, u_sequence)\n",
    "    return y_pred_sequence,jacobian, u_sequence"
   ],
   "metadata": {
    "collapsed": false,
    "pycharm": {
     "name": "#%%\n"
    }
   }
  },
  {
   "cell_type": "markdown",
   "source": [
    "## 求解y对于u的梯度"
   ],
   "metadata": {
    "collapsed": false,
    "pycharm": {
     "name": "#%% md\n"
    }
   }
  },
  {
   "cell_type": "code",
   "execution_count": null,
   "outputs": [],
   "source": [
    "predict_horizon = 5\n",
    "control_horizon = 5\n",
    "Q = tf.eye(predict_horizon)\n",
    "R = tf.eye(predict_horizon)\n",
    "u_sequence = tf.ones((control_horizon,1),dtype=tf.float32)\n",
    "u_sequence = tf.Variable(u_sequence,trainable=True)\n",
    "y_ref = 10\n",
    "x0 = 1\n",
    "u0 = tf.constant([1],dtype=tf.float32)\n",
    "opt = optimizer('sgd', 0.1, 1,exponential_decay=True)\n",
    "# 计算梯度\n",
    "y_pred_sequence,gradients, u_sequence = slove_y_gradient(opt,u_sequence,x0)\n",
    "print(y_pred_sequence,gradients, u_sequence)"
   ],
   "metadata": {
    "collapsed": false,
    "pycharm": {
     "name": "#%%\n"
    }
   }
  },
  {
   "cell_type": "markdown",
   "source": [
    "## 求解y对于u的雅可比矩阵"
   ],
   "metadata": {
    "collapsed": false,
    "pycharm": {
     "name": "#%% md\n"
    }
   }
  },
  {
   "cell_type": "code",
   "execution_count": 172,
   "outputs": [
    {
     "name": "stdout",
     "output_type": "stream",
     "text": [
      "tf.Tensor(\n",
      "[[1.5    ]\n",
      " [1.75   ]\n",
      " [1.875  ]\n",
      " [1.9375 ]\n",
      " [1.96875]], shape=(5, 1), dtype=float32) tf.Tensor(\n",
      "[[[[2.   ]\n",
      "   [0.   ]\n",
      "   [0.   ]\n",
      "   [0.   ]\n",
      "   [0.   ]]]\n",
      "\n",
      "\n",
      " [[[1.   ]\n",
      "   [2.   ]\n",
      "   [0.   ]\n",
      "   [0.   ]\n",
      "   [0.   ]]]\n",
      "\n",
      "\n",
      " [[[0.5  ]\n",
      "   [1.   ]\n",
      "   [2.   ]\n",
      "   [0.   ]\n",
      "   [0.   ]]]\n",
      "\n",
      "\n",
      " [[[0.25 ]\n",
      "   [0.5  ]\n",
      "   [1.   ]\n",
      "   [2.   ]\n",
      "   [0.   ]]]\n",
      "\n",
      "\n",
      " [[[0.125]\n",
      "   [0.25 ]\n",
      "   [0.5  ]\n",
      "   [1.   ]\n",
      "   [2.   ]]]], shape=(5, 1, 5, 1), dtype=float32) <tf.Variable 'Variable:0' shape=(5, 1) dtype=float32, numpy=\n",
      "array([[1.],\n",
      "       [1.],\n",
      "       [1.],\n",
      "       [1.],\n",
      "       [1.]], dtype=float32)>\n"
     ]
    }
   ],
   "source": [
    "predict_horizon = 5\n",
    "control_horizon = 5\n",
    "Q = tf.eye(predict_horizon)\n",
    "R = tf.eye(predict_horizon)\n",
    "u_sequence = tf.ones((control_horizon,1),dtype=tf.float32)\n",
    "u_sequence = tf.Variable(u_sequence,trainable=True)\n",
    "y_ref = 10\n",
    "x0 = 1\n",
    "u0 = tf.constant([1],dtype=tf.float32)\n",
    "opt = optimizer('sgd', 0.1, 1,exponential_decay=True)\n",
    "y_pred_sequence,jacobian, u_sequence=slove_y_jacobian(u_sequence,x0)\n",
    "print(y_pred_sequence,jacobian, u_sequence)"
   ],
   "metadata": {
    "collapsed": false,
    "pycharm": {
     "name": "#%%\n"
    }
   }
  },
  {
   "cell_type": "markdown",
   "source": [
    "## 方法1：求解代价函数对于u的梯度gradient"
   ],
   "metadata": {
    "collapsed": false,
    "pycharm": {
     "name": "#%% md\n"
    }
   }
  },
  {
   "cell_type": "markdown",
   "source": [],
   "metadata": {
    "collapsed": false,
    "pycharm": {
     "name": "#%% md\n"
    }
   }
  },
  {
   "cell_type": "code",
   "execution_count": 190,
   "outputs": [
    {
     "name": "stdout",
     "output_type": "stream",
     "text": [
      "tf.Tensor([[340.833]], shape=(1, 1), dtype=float32) tf.Tensor(\n",
      "[[-62.664062]\n",
      " [-59.328125]\n",
      " [-54.65625 ]\n",
      " [-46.3125  ]\n",
      " [-30.125   ]], shape=(5, 1), dtype=float32) <tf.Variable 'Variable:0' shape=(5, 1) dtype=float32, numpy=\n",
      "array([[1.1],\n",
      "       [1.1],\n",
      "       [1.1],\n",
      "       [1.1],\n",
      "       [1.1]], dtype=float32)>\n"
     ]
    }
   ],
   "source": [
    "predict_horizon = 5\n",
    "control_horizon = 5\n",
    "Q = tf.eye(predict_horizon)\n",
    "R = tf.eye(predict_horizon)\n",
    "u_sequence = tf.ones((control_horizon, 1), dtype=tf.float32)\n",
    "u_sequence = tf.Variable(u_sequence, trainable=True)\n",
    "y_ref = 10\n",
    "x0 = 1\n",
    "u0 = tf.constant([1], dtype=tf.float32)\n",
    "opt = optimizer('sgd', 0.1, 1, exponential_decay=True)\n",
    "cost, gradients,u_sequence = slove_cost_gradient(opt,y_ref,u_sequence,x0,u0,function_type='u')\n",
    "print(cost, gradients,u_sequence)"
   ],
   "metadata": {
    "collapsed": false,
    "pycharm": {
     "name": "#%%\n"
    }
   }
  },
  {
   "cell_type": "markdown",
   "source": [
    "## 求解代价函数对于u的雅可比矩阵，与梯度一样"
   ],
   "metadata": {
    "collapsed": false,
    "pycharm": {
     "name": "#%% md\n"
    }
   }
  },
  {
   "cell_type": "code",
   "execution_count": 184,
   "outputs": [
    {
     "name": "stdout",
     "output_type": "stream",
     "text": [
      "(<tf.Tensor: shape=(1, 1), dtype=float32, numpy=array([[340.833]], dtype=float32)>, <tf.Tensor: shape=(1, 1, 5, 1), dtype=float32, numpy=\n",
      "array([[[[-62.664062],\n",
      "         [-59.328125],\n",
      "         [-54.65625 ],\n",
      "         [-46.3125  ],\n",
      "         [-30.125   ]]]], dtype=float32)>, <tf.Variable 'Variable:0' shape=(5, 1) dtype=float32, numpy=\n",
      "array([[1.],\n",
      "       [1.],\n",
      "       [1.],\n",
      "       [1.],\n",
      "       [1.]], dtype=float32)>)\n"
     ]
    }
   ],
   "source": [
    "predict_horizon = 5\n",
    "control_horizon = 5\n",
    "Q = tf.eye(predict_horizon)\n",
    "R = tf.eye(predict_horizon)\n",
    "u_sequence = tf.ones((control_horizon, 1), dtype=tf.float32)\n",
    "u_sequence = tf.Variable(u_sequence, trainable=True)\n",
    "y_ref = 10\n",
    "x0 = 1\n",
    "u0 = tf.constant([1], dtype=tf.float32)\n",
    "opt = optimizer('sgd', 0.1, 1, exponential_decay=True)\n",
    "print(slove_cost_jacobian(y_ref,u_sequence,x0,u0,function_type='u'))"
   ],
   "metadata": {
    "collapsed": false,
    "pycharm": {
     "name": "#%%\n"
    }
   }
  },
  {
   "cell_type": "markdown",
   "source": [
    "## 方法2：求解代价函数对于du的雅可比矩阵，再求梯度"
   ],
   "metadata": {
    "collapsed": false,
    "pycharm": {
     "name": "#%% md\n"
    }
   }
  },
  {
   "cell_type": "code",
   "execution_count": 187,
   "outputs": [
    {
     "name": "stdout",
     "output_type": "stream",
     "text": [
      "tf.Tensor(\n",
      "[[-64.66406 ]\n",
      " [-61.328125]\n",
      " [-56.65625 ]\n",
      " [-48.3125  ]\n",
      " [-32.125   ]], shape=(5, 1), dtype=float32)\n"
     ]
    }
   ],
   "source": [
    "predict_horizon = 5\n",
    "control_horizon = 5\n",
    "Q = tf.eye(predict_horizon)\n",
    "R = tf.eye(predict_horizon)\n",
    "u_sequence = tf.ones((control_horizon, 1), dtype=tf.float32)\n",
    "u_sequence = tf.Variable(u_sequence, trainable=True)\n",
    "y_ref = 10\n",
    "x0 = 1\n",
    "u0 = tf.constant([[1]], dtype=tf.float32)\n",
    "opt = optimizer('sgd', 0.1, 1, exponential_decay=True)\n",
    "new_u0 = tf.concat((u0, u_sequence[:-1]), axis=0)\n",
    "delta_u = u_sequence - new_u0\n",
    "y_pred_sequence,jacobian, u_sequence = slove_y_jacobian(u_sequence,x0)\n",
    "a = np.ones((predict_horizon,predict_horizon))\n",
    "for i in range(predict_horizon):\n",
    "    a[i] = tf.squeeze(jacobian[i])\n",
    "jacobian = tf.constant(a, dtype=tf.float32)\n",
    "gradient = 2*tf.transpose(jacobian) @ (y_pred_sequence-y_ref)+2*delta_u\n",
    "print(gradient)"
   ],
   "metadata": {
    "collapsed": false,
    "pycharm": {
     "name": "#%%\n"
    }
   }
  },
  {
   "cell_type": "markdown",
   "source": [
    "## 方法2：求解代价函数对于u的雅可比矩阵，再求梯度"
   ],
   "metadata": {
    "collapsed": false,
    "pycharm": {
     "name": "#%% md\n"
    }
   }
  },
  {
   "cell_type": "code",
   "execution_count": 188,
   "outputs": [
    {
     "name": "stdout",
     "output_type": "stream",
     "text": [
      "tf.Tensor(\n",
      "[[-62.664062]\n",
      " [-59.328125]\n",
      " [-54.65625 ]\n",
      " [-46.3125  ]\n",
      " [-30.125   ]], shape=(5, 1), dtype=float32)\n"
     ]
    }
   ],
   "source": [
    "predict_horizon = 5\n",
    "control_horizon = 5\n",
    "Q = tf.eye(predict_horizon)\n",
    "R = tf.eye(predict_horizon)\n",
    "u_sequence = tf.ones((control_horizon, 1), dtype=tf.float32)\n",
    "u_sequence = tf.Variable(u_sequence, trainable=True)\n",
    "y_ref = 10\n",
    "x0 = 1\n",
    "u0 = tf.constant([[1]], dtype=tf.float32)\n",
    "opt = optimizer('sgd', 0.1, 1, exponential_decay=True)\n",
    "y_pred_sequence,jacobian, u_sequence = slove_y_jacobian(u_sequence,x0)\n",
    "a = np.ones((predict_horizon,predict_horizon))\n",
    "for i in range(predict_horizon):\n",
    "    a[i] = tf.squeeze(jacobian[i])\n",
    "jacobian = tf.constant(a, dtype=tf.float32)\n",
    "gradient = 2*tf.transpose(jacobian) @ (y_pred_sequence-y_ref)+2*u_sequence\n",
    "print(gradient)"
   ],
   "metadata": {
    "collapsed": false,
    "pycharm": {
     "name": "#%%\n"
    }
   }
  },
  {
   "cell_type": "code",
   "execution_count": 218,
   "outputs": [
    {
     "name": "stdout",
     "output_type": "stream",
     "text": [
      "tf.Tensor(\n",
      "[[-62.664062]\n",
      " [-59.328125]\n",
      " [-54.65625 ]\n",
      " [-46.3125  ]\n",
      " [-30.125   ]], shape=(5, 1), dtype=float32)\n"
     ]
    }
   ],
   "source": [
    "predict_horizon = 5\n",
    "control_horizon = 5\n",
    "Q = tf.eye(predict_horizon)\n",
    "R = tf.eye(predict_horizon)\n",
    "u_sequence = tf.ones((control_horizon, 1), dtype=tf.float32)\n",
    "u_sequence = tf.Variable(u_sequence, trainable=True)\n",
    "y_ref = 10\n",
    "x0 = 1\n",
    "u0 = tf.constant([[1]], dtype=tf.float32)\n",
    "opt = optimizer('sgd', 0.1, 1, exponential_decay=True)\n",
    "y_pred_sequence,jacobian, u_sequence = slove_y_jacobian(u_sequence,x0)\n",
    "a = np.ones((predict_horizon,predict_horizon))\n",
    "for i in range(predict_horizon):\n",
    "    a[i] = tf.squeeze(jacobian[i])\n",
    "jacobian = tf.constant(a, dtype=tf.float32)\n",
    "gradient = 2*tf.transpose(jacobian) @ (y_pred_sequence-y_ref)+2*u_sequence\n",
    "print(gradient)"
   ],
   "metadata": {
    "collapsed": false,
    "pycharm": {
     "name": "#%%\n"
    }
   }
  },
  {
   "cell_type": "code",
   "execution_count": 209,
   "outputs": [
    {
     "data": {
      "text/plain": "<tf.Tensor: shape=(5, 1), dtype=float32, numpy=\narray([[32.33203 ],\n       [30.664062],\n       [28.328125],\n       [24.15625 ],\n       [16.0625  ]], dtype=float32)>"
     },
     "execution_count": 209,
     "metadata": {},
     "output_type": "execute_result"
    }
   ],
   "source": [
    "u_sequence-0.5*gradient"
   ],
   "metadata": {
    "collapsed": false,
    "pycharm": {
     "name": "#%%\n"
    }
   }
  },
  {
   "cell_type": "code",
   "execution_count": 294,
   "outputs": [
    {
     "name": "stdout",
     "output_type": "stream",
     "text": [
      "<tf.Variable 'Variable:0' shape=(5, 1) dtype=float32, numpy=\n",
      "array([[1.],\n",
      "       [1.],\n",
      "       [1.],\n",
      "       [1.],\n",
      "       [1.]], dtype=float32)>\n",
      "tf.Tensor(0.060263652, shape=(), dtype=float32)\n",
      "<tf.Variable 'Variable:0' shape=(5, 1) dtype=float32, numpy=\n",
      "array([[4.836629 ],\n",
      "       [4.6355934],\n",
      "       [4.3540487],\n",
      "       [3.851224 ],\n",
      "       [2.8757062]], dtype=float32)> tf.Tensor(\n",
      "[[-63.664062]\n",
      " [-60.328125]\n",
      " [-55.65625 ]\n",
      " [-47.3125  ]\n",
      " [-31.125   ]], shape=(5, 1), dtype=float32)\n",
      "tf.Tensor(0.0033665039, shape=(), dtype=float32)\n",
      "<tf.Variable 'Variable:0' shape=(5, 1) dtype=float32, numpy=\n",
      "array([[2.4685683],\n",
      "       [1.87763  ],\n",
      "       [1.9505422],\n",
      "       [2.2818737],\n",
      "       [2.2998714]], dtype=float32)> tf.Tensor(\n",
      "[[703.41833]\n",
      " [819.2367 ]\n",
      " [713.9473 ]\n",
      " [466.16614]\n",
      " [171.04828]], shape=(5, 1), dtype=float32)\n",
      "tf.Tensor(0.012672722, shape=(), dtype=float32)\n",
      "<tf.Variable 'Variable:0' shape=(5, 1) dtype=float32, numpy=\n",
      "array([[1.2415696],\n",
      "       [1.5892069],\n",
      "       [1.8917757],\n",
      "       [2.1984384],\n",
      "       [2.2217548]], dtype=float32)> tf.Tensor(\n",
      "[[96.82203  ]\n",
      " [22.759357 ]\n",
      " [ 4.6372404]\n",
      " [ 6.583854 ]\n",
      " [ 6.164165 ]], shape=(5, 1), dtype=float32)\n",
      "tf.Tensor(0.017787345, shape=(), dtype=float32)\n",
      "<tf.Variable 'Variable:0' shape=(5, 1) dtype=float32, numpy=\n",
      "array([[1.3350445],\n",
      "       [1.9979179],\n",
      "       [2.316379 ],\n",
      "       [2.4415834],\n",
      "       [2.3044019]], dtype=float32)> tf.Tensor(\n",
      "[[ -5.255136]\n",
      " [-22.977629]\n",
      " [-23.871086]\n",
      " [-13.669551]\n",
      " [ -4.646392]], shape=(5, 1), dtype=float32)\n",
      "tf.Tensor(0.013646348, shape=(), dtype=float32)\n",
      "<tf.Variable 'Variable:0' shape=(5, 1) dtype=float32, numpy=\n",
      "array([[1.6265655],\n",
      "       [2.2639666],\n",
      "       [2.3425322],\n",
      "       [2.299485 ],\n",
      "       [2.200666 ]], dtype=float32)> tf.Tensor(\n",
      "[[-21.362558 ]\n",
      " [-19.495955 ]\n",
      " [ -1.9164958]\n",
      " [ 10.412919 ]\n",
      " [  7.601729 ]], shape=(5, 1), dtype=float32)\n",
      "tf.Tensor(0.01293715, shape=(), dtype=float32)\n",
      "<tf.Variable 'Variable:0' shape=(5, 1) dtype=float32, numpy=\n",
      "array([[2.0089357],\n",
      "       [2.4656234],\n",
      "       [2.359081 ],\n",
      "       [2.2661612],\n",
      "       [2.1851368]], dtype=float32)> tf.Tensor(\n",
      "[[-29.555992 ]\n",
      " [-15.587417 ]\n",
      " [ -1.2791824]\n",
      " [  2.5758243]\n",
      " [  1.2003496]], shape=(5, 1), dtype=float32)\n",
      "tf.Tensor(0.01173764, shape=(), dtype=float32)\n",
      "<tf.Variable 'Variable:0' shape=(5, 1) dtype=float32, numpy=\n",
      "array([[2.2598844],\n",
      "       [2.4466097],\n",
      "       [2.2718449],\n",
      "       [2.2077215],\n",
      "       [2.165689 ]], dtype=float32)> tf.Tensor(\n",
      "[[-21.379818 ]\n",
      " [  1.6198878]\n",
      " [  7.432166 ]\n",
      " [  4.9788303]\n",
      " [  1.6568742]], shape=(5, 1), dtype=float32)\n",
      "tf.Tensor(0.011606408, shape=(), dtype=float32)\n",
      "<tf.Variable 'Variable:0' shape=(5, 1) dtype=float32, numpy=\n",
      "array([[2.348931 ],\n",
      "       [2.366409 ],\n",
      "       [2.2173002],\n",
      "       [2.193451 ],\n",
      "       [2.169926 ]], dtype=float32)> tf.Tensor(\n",
      "[[-7.6722054 ]\n",
      " [ 6.910041  ]\n",
      " [ 4.6995287 ]\n",
      " [ 1.2295306 ]\n",
      " [-0.36505723]], shape=(5, 1), dtype=float32)\n",
      "tf.Tensor(0.011732601, shape=(), dtype=float32)\n",
      "<tf.Variable 'Variable:0' shape=(5, 1) dtype=float32, numpy=\n",
      "array([[2.3071659],\n",
      "       [2.2776117],\n",
      "       [2.1865754],\n",
      "       [2.1954322],\n",
      "       [2.1791763]], dtype=float32)> tf.Tensor(\n",
      "[[ 3.5597649 ]\n",
      " [ 7.5684175 ]\n",
      " [ 2.6187577 ]\n",
      " [-0.16886997]\n",
      " [-0.7884259 ]], shape=(5, 1), dtype=float32)\n",
      "tf.Tensor(0.012085464, shape=(), dtype=float32)\n",
      "<tf.Variable 'Variable:0' shape=(5, 1) dtype=float32, numpy=\n",
      "array([[2.2411444],\n",
      "       [2.229851 ],\n",
      "       [2.1873713],\n",
      "       [2.2102723],\n",
      "       [2.190436 ]], dtype=float32)> tf.Tensor(\n",
      "[[ 5.4628763 ]\n",
      " [ 3.9519196 ]\n",
      " [-0.06585932]\n",
      " [-1.2279248 ]\n",
      " [-0.93166804]], shape=(5, 1), dtype=float32)\n",
      "tf.Tensor(0.012303715, shape=(), dtype=float32)\n",
      "<tf.Variable 'Variable:0' shape=(5, 1) dtype=float32, numpy=\n",
      "array([[2.2050602],\n",
      "       [2.217912 ],\n",
      "       [2.2007892],\n",
      "       [2.2227366],\n",
      "       [2.1966267]], dtype=float32)> tf.Tensor(\n",
      "[[ 2.9327884 ]\n",
      " [ 0.97036684]\n",
      " [-1.0905566 ]\n",
      " [-1.0130472 ]\n",
      " [-0.50315547]], shape=(5, 1), dtype=float32)\n",
      "tf.Tensor(0.012348579, shape=(), dtype=float32)\n",
      "<tf.Variable 'Variable:0' shape=(5, 1) dtype=float32, numpy=\n",
      "array([[2.2007363],\n",
      "       [2.2226162],\n",
      "       [2.2127812],\n",
      "       [2.2276545],\n",
      "       [2.197471 ]], dtype=float32)> tf.Tensor(\n",
      "[[ 0.35015333]\n",
      " [-0.38094568]\n",
      " [-0.9711149 ]\n",
      " [-0.39824462]\n",
      " [-0.06837654]], shape=(5, 1), dtype=float32)\n",
      "tf.Tensor(0.012306874, shape=(), dtype=float32)\n",
      "<tf.Variable 'Variable:0' shape=(5, 1) dtype=float32, numpy=\n",
      "array([[2.2106714],\n",
      "       [2.2287502],\n",
      "       [2.2186084],\n",
      "       [2.2271585],\n",
      "       [2.1958578]], dtype=float32)> tf.Tensor(\n",
      "[[-0.8072853 ]\n",
      " [-0.49842334]\n",
      " [-0.47349453]\n",
      " [ 0.04029679]\n",
      " [ 0.13107157]], shape=(5, 1), dtype=float32)\n",
      "tf.Tensor(0.012259124, shape=(), dtype=float32)\n",
      "<tf.Variable 'Variable:0' shape=(5, 1) dtype=float32, numpy=\n",
      "array([[2.220499 ],\n",
      "       [2.2305837],\n",
      "       [2.2197983],\n",
      "       [2.224976 ],\n",
      "       [2.1941967]], dtype=float32)> tf.Tensor(\n",
      "[[-0.80165744]\n",
      " [-0.14955902]\n",
      " [-0.09707427]\n",
      " [ 0.17802382]\n",
      " [ 0.13549876]], shape=(5, 1), dtype=float32)\n",
      "tf.Tensor(0.012236578, shape=(), dtype=float32)\n",
      "<tf.Variable 'Variable:0' shape=(5, 1) dtype=float32, numpy=\n",
      "array([[2.22483  ],\n",
      "       [2.228799 ],\n",
      "       [2.2192876],\n",
      "       [2.2232993],\n",
      "       [2.1933634]], dtype=float32)> tf.Tensor(\n",
      "[[-0.3539219 ]\n",
      " [ 0.14583182]\n",
      " [ 0.04173803]\n",
      " [ 0.13704085]\n",
      " [ 0.06809998]], shape=(5, 1), dtype=float32)\n",
      "tf.Tensor(0.01223693, shape=(), dtype=float32)\n",
      "<tf.Variable 'Variable:0' shape=(5, 1) dtype=float32, numpy=\n",
      "array([[2.2247007],\n",
      "       [2.2260003],\n",
      "       [2.2189767],\n",
      "       [2.2226434],\n",
      "       [2.1932468]], dtype=float32)> tf.Tensor(\n",
      "[[0.01055694]\n",
      " [0.22872376]\n",
      " [0.02541041]\n",
      " [0.05359292]\n",
      " [0.00952196]], shape=(5, 1), dtype=float32)\n",
      "tf.Tensor(0.012246239, shape=(), dtype=float32)\n",
      "<tf.Variable 'Variable:0' shape=(5, 1) dtype=float32, numpy=\n",
      "array([[2.2230191],\n",
      "       [2.223938 ],\n",
      "       [2.2193356],\n",
      "       [2.2226303],\n",
      "       [2.193428 ]], dtype=float32)> tf.Tensor(\n",
      "[[ 0.13730621]\n",
      " [ 0.16840816]\n",
      " [-0.0292964 ]\n",
      " [ 0.00106835]\n",
      " [-0.0147922 ]], shape=(5, 1), dtype=float32)\n",
      "tf.Tensor(0.012253976, shape=(), dtype=float32)\n",
      "<tf.Variable 'Variable:0' shape=(5, 1) dtype=float32, numpy=\n",
      "array([[2.2217476],\n",
      "       [2.222986 ],\n",
      "       [2.2200572],\n",
      "       [2.2227633],\n",
      "       [2.1935987]], dtype=float32)> tf.Tensor(\n",
      "[[ 0.10375237]\n",
      " [ 0.07768869]\n",
      " [-0.05889845]\n",
      " [-0.01085258]\n",
      " [-0.01392317]], shape=(5, 1), dtype=float32)\n",
      "tf.Tensor(0.012256963, shape=(), dtype=float32)\n",
      "<tf.Variable 'Variable:0' shape=(5, 1) dtype=float32, numpy=\n",
      "array([[2.221377 ],\n",
      "       [2.2227483],\n",
      "       [2.2207415],\n",
      "       [2.2227857],\n",
      "       [2.1936612]], dtype=float32)> tf.Tensor(\n",
      "[[ 0.03024936]\n",
      " [ 0.01938748]\n",
      " [-0.05582237]\n",
      " [-0.00182319]\n",
      " [-0.00510454]], shape=(5, 1), dtype=float32)\n",
      "tf.Tensor(0.012256649, shape=(), dtype=float32)\n",
      "<tf.Variable 'Variable:0' shape=(5, 1) dtype=float32, numpy=\n",
      "array([[2.2215714],\n",
      "       [2.222739 ],\n",
      "       [2.2212012],\n",
      "       [2.2226794],\n",
      "       [2.1936493]], dtype=float32)> tf.Tensor(\n",
      "[[-0.01586938]\n",
      " [ 0.00075054]\n",
      " [-0.03750324]\n",
      " [ 0.00868273]\n",
      " [ 0.0009706 ]], shape=(5, 1), dtype=float32)\n",
      "tf.Tensor(0.012255394, shape=(), dtype=float32)\n",
      "<tf.Variable 'Variable:0' shape=(5, 1) dtype=float32, numpy=\n",
      "array([[2.2218795],\n",
      "       [2.222694 ],\n",
      "       [2.2214487],\n",
      "       [2.222523 ],\n",
      "       [2.193622 ]], dtype=float32)> tf.Tensor(\n",
      "[[-0.02512527]\n",
      " [ 0.00368428]\n",
      " [-0.02019167]\n",
      " [ 0.01275229]\n",
      " [ 0.00220919]], shape=(5, 1), dtype=float32)\n",
      "tf.Tensor(0.012254587, shape=(), dtype=float32)\n",
      "<tf.Variable 'Variable:0' shape=(5, 1) dtype=float32, numpy=\n",
      "array([[2.2220643],\n",
      "       [2.222569 ],\n",
      "       [2.2215765],\n",
      "       [2.2223868],\n",
      "       [2.1936133]], dtype=float32)> tf.Tensor(\n",
      "[[-0.01507521]\n",
      " [ 0.01019812]\n",
      " [-0.01042724]\n",
      " [ 0.01111484]\n",
      " [ 0.00071955]], shape=(5, 1), dtype=float32)\n",
      "tf.Tensor(0.012254464, shape=(), dtype=float32)\n",
      "<tf.Variable 'Variable:0' shape=(5, 1) dtype=float32, numpy=\n",
      "array([[2.2221048],\n",
      "       [2.222418 ],\n",
      "       [2.221662 ],\n",
      "       [2.222295 ],\n",
      "       [2.1936252]], dtype=float32)> tf.Tensor(\n",
      "[[-0.0033083 ]\n",
      " [ 0.01232243]\n",
      " [-0.00699377]\n",
      " [ 0.00749016]\n",
      " [-0.00097895]], shape=(5, 1), dtype=float32)\n",
      "tf.Tensor(0.012254707, shape=(), dtype=float32)\n",
      "<tf.Variable 'Variable:0' shape=(5, 1) dtype=float32, numpy=\n",
      "array([[2.222073 ],\n",
      "       [2.2222934],\n",
      "       [2.2217395],\n",
      "       [2.2222393],\n",
      "       [2.193647 ]], dtype=float32)> tf.Tensor(\n",
      "[[ 0.00258136]\n",
      " [ 0.0101819 ]\n",
      " [-0.00632238]\n",
      " [ 0.00454402]\n",
      " [-0.00177407]], shape=(5, 1), dtype=float32)\n",
      "tf.Tensor(0.012254983, shape=(), dtype=float32)\n",
      "<tf.Variable 'Variable:0' shape=(5, 1) dtype=float32, numpy=\n",
      "array([[2.2220366],\n",
      "       [2.2222133],\n",
      "       [2.2218127],\n",
      "       [2.2222033],\n",
      "       [2.1936681]], dtype=float32)> tf.Tensor(\n",
      "[[ 0.00298166]\n",
      " [ 0.0065403 ]\n",
      " [-0.00597501]\n",
      " [ 0.00293303]\n",
      " [-0.00174046]], shape=(5, 1), dtype=float32)\n",
      "tf.Tensor(0.0122551285, shape=(), dtype=float32)\n",
      "<tf.Variable 'Variable:0' shape=(5, 1) dtype=float32, numpy=\n",
      "array([[2.2220216],\n",
      "       [2.2221682],\n",
      "       [2.2218747],\n",
      "       [2.2221746],\n",
      "       [2.1936843]], dtype=float32)> tf.Tensor(\n",
      "[[ 0.00122786]\n",
      " [ 0.00367689]\n",
      " [-0.00505567]\n",
      " [ 0.00233126]\n",
      " [-0.00132227]], shape=(5, 1), dtype=float32)\n",
      "tf.Tensor(0.012255163, shape=(), dtype=float32)\n",
      "<tf.Variable 'Variable:0' shape=(5, 1) dtype=float32, numpy=\n",
      "array([[2.2220254],\n",
      "       [2.222142 ],\n",
      "       [2.2219212],\n",
      "       [2.222149 ],\n",
      "       [2.1936955]], dtype=float32)> tf.Tensor(\n",
      "[[-0.00030613]\n",
      " [ 0.00213408]\n",
      " [-0.00380135]\n",
      " [ 0.00209379]\n",
      " [-0.00092053]], shape=(5, 1), dtype=float32)\n",
      "tf.Tensor(0.012255144, shape=(), dtype=float32)\n",
      "<tf.Variable 'Variable:0' shape=(5, 1) dtype=float32, numpy=\n",
      "array([[2.2220356],\n",
      "       [2.2221231],\n",
      "       [2.221954 ],\n",
      "       [2.2221265],\n",
      "       [2.193704 ]], dtype=float32)> tf.Tensor(\n",
      "[[-0.00084019]\n",
      " [ 0.00154066]\n",
      " [-0.00268269]\n",
      " [ 0.00182247]\n",
      " [-0.00068617]], shape=(5, 1), dtype=float32)\n",
      "tf.Tensor(0.012255126, shape=(), dtype=float32)\n",
      "<tf.Variable 'Variable:0' shape=(5, 1) dtype=float32, numpy=\n",
      "array([[2.2220435],\n",
      "       [2.2221065],\n",
      "       [2.2219768],\n",
      "       [2.2221081],\n",
      "       [2.1937106]], dtype=float32)> tf.Tensor(\n",
      "[[-0.00063872]\n",
      " [ 0.00136685]\n",
      " [-0.00184345]\n",
      " [ 0.00150037]\n",
      " [-0.00055242]], shape=(5, 1), dtype=float32)\n",
      "tf.Tensor(0.012255122, shape=(), dtype=float32)\n",
      "<tf.Variable 'Variable:0' shape=(5, 1) dtype=float32, numpy=\n",
      "array([[2.2220469],\n",
      "       [2.2220922],\n",
      "       [2.2219932],\n",
      "       [2.222094 ],\n",
      "       [2.1937165]], dtype=float32)> tf.Tensor(\n",
      "[[-0.00027657]\n",
      " [ 0.00117612]\n",
      " [-0.00134349]\n",
      " [ 0.00114441]\n",
      " [-0.00048542]], shape=(5, 1), dtype=float32)\n",
      "tf.Tensor(0.0122551285, shape=(), dtype=float32)\n",
      "<tf.Variable 'Variable:0' shape=(5, 1) dtype=float32, numpy=\n",
      "array([[2.2220473],\n",
      "       [2.2220807],\n",
      "       [2.2220058],\n",
      "       [2.2220836],\n",
      "       [2.1937218]], dtype=float32)> tf.Tensor(\n",
      "[[-3.6954880e-05]\n",
      " [ 9.4294548e-04]\n",
      " [-1.0299683e-03]\n",
      " [ 8.5592270e-04]\n",
      " [-4.1842461e-04]], shape=(5, 1), dtype=float32)\n",
      "tf.Tensor(0.012255141, shape=(), dtype=float32)\n",
      "<tf.Variable 'Variable:0' shape=(5, 1) dtype=float32, numpy=\n",
      "array([[2.2220466],\n",
      "       [2.222072 ],\n",
      "       [2.2220156],\n",
      "       [2.2220757],\n",
      "       [2.193726 ]], dtype=float32)> tf.Tensor(\n",
      "[[ 5.2452087e-05]\n",
      " [ 7.1525574e-04]\n",
      " [-8.0728531e-04]\n",
      " [ 6.3991547e-04]\n",
      " [-3.4308434e-04]], shape=(5, 1), dtype=float32)\n",
      "tf.Tensor(0.012255151, shape=(), dtype=float32)\n",
      "<tf.Variable 'Variable:0' shape=(5, 1) dtype=float32, numpy=\n",
      "array([[2.2220466],\n",
      "       [2.2220662],\n",
      "       [2.2220237],\n",
      "       [2.2220697],\n",
      "       [2.1937294]], dtype=float32)> tf.Tensor(\n",
      "[[-2.1457672e-06]\n",
      " [ 4.7039986e-04]\n",
      " [-6.5279007e-04]\n",
      " [ 4.9161911e-04]\n",
      " [-2.6750565e-04]], shape=(5, 1), dtype=float32)\n",
      "tf.Tensor(0.012255153, shape=(), dtype=float32)\n",
      "<tf.Variable 'Variable:0' shape=(5, 1) dtype=float32, numpy=\n",
      "array([[2.2220469],\n",
      "       [2.2220619],\n",
      "       [2.2220297],\n",
      "       [2.222065 ],\n",
      "       [2.193732 ]], dtype=float32)> tf.Tensor(\n",
      "[[-2.8133392e-05]\n",
      " [ 3.5071373e-04]\n",
      " [-4.8518181e-04]\n",
      " [ 3.8576126e-04]\n",
      " [-2.0909309e-04]], shape=(5, 1), dtype=float32)\n",
      "tf.Tensor(0.012255153, shape=(), dtype=float32)\n",
      "<tf.Variable 'Variable:0' shape=(5, 1) dtype=float32, numpy=\n",
      "array([[2.2220473],\n",
      "       [2.2220588],\n",
      "       [2.2220342],\n",
      "       [2.2220612],\n",
      "       [2.193734 ]], dtype=float32)> tf.Tensor(\n",
      "[[-4.1246414e-05]\n",
      " [ 2.5653839e-04]\n",
      " [-3.6883354e-04]\n",
      " [ 3.1375885e-04]\n",
      " [-1.5068054e-04]], shape=(5, 1), dtype=float32)\n",
      "tf.Tensor(0.012255153, shape=(), dtype=float32)\n",
      "<tf.Variable 'Variable:0' shape=(5, 1) dtype=float32, numpy=\n",
      "array([[2.2220478],\n",
      "       [2.2220564],\n",
      "       [2.2220378],\n",
      "       [2.2220583],\n",
      "       [2.1937356]], dtype=float32)> tf.Tensor(\n",
      "[[-3.7193298e-05]\n",
      " [ 1.9717216e-04]\n",
      " [-2.8395653e-04]\n",
      " [ 2.2888184e-04]\n",
      " [-1.3399124e-04]], shape=(5, 1), dtype=float32)\n",
      "tf.Tensor(0.012255153, shape=(), dtype=float32)\n",
      "<tf.Variable 'Variable:0' shape=(5, 1) dtype=float32, numpy=\n",
      "array([[2.222048 ],\n",
      "       [2.2220545],\n",
      "       [2.2220402],\n",
      "       [2.222056 ],\n",
      "       [2.1937368]], dtype=float32)> tf.Tensor(\n",
      "[[-2.4795532e-05]\n",
      " [ 1.5354156e-04]\n",
      " [-2.0122528e-04]\n",
      " [ 1.9073486e-04]\n",
      " [-9.2029572e-05]], shape=(5, 1), dtype=float32)\n",
      "tf.Tensor(0.0122551555, shape=(), dtype=float32)\n",
      "<tf.Variable 'Variable:0' shape=(5, 1) dtype=float32, numpy=\n",
      "array([[2.222048 ],\n",
      "       [2.222053 ],\n",
      "       [2.2220423],\n",
      "       [2.2220542],\n",
      "       [2.1937377]], dtype=float32)> tf.Tensor(\n",
      "[[-7.390976e-06]\n",
      " [ 1.206398e-04]\n",
      " [-1.654625e-04]\n",
      " [ 1.270771e-04]\n",
      " [-8.368492e-05]], shape=(5, 1), dtype=float32)\n",
      "tf.Tensor(0.0122551555, shape=(), dtype=float32)\n",
      "<tf.Variable 'Variable:0' shape=(5, 1) dtype=float32, numpy=\n",
      "array([[2.222048 ],\n",
      "       [2.2220519],\n",
      "       [2.2220438],\n",
      "       [2.222053 ],\n",
      "       [2.1937385]], dtype=float32)> tf.Tensor(\n",
      "[[-4.05311584e-06]\n",
      " [ 9.32216644e-05]\n",
      " [-1.18494034e-04]\n",
      " [ 1.01804733e-04]\n",
      " [-6.69956207e-05]], shape=(5, 1), dtype=float32)\n",
      "tf.Tensor(0.012255157, shape=(), dtype=float32)\n",
      "<tf.Variable 'Variable:0' shape=(5, 1) dtype=float32, numpy=\n",
      "array([[2.2220483],\n",
      "       [2.2220511],\n",
      "       [2.222045 ],\n",
      "       [2.222052 ],\n",
      "       [2.1937392]], dtype=float32)> tf.Tensor(\n",
      "[[-2.3365021e-05]\n",
      " [ 5.5074692e-05]\n",
      " [-9.3221664e-05]\n",
      " [ 8.4877014e-05]\n",
      " [-5.0306320e-05]], shape=(5, 1), dtype=float32)\n",
      "tf.Tensor(0.0122551555, shape=(), dtype=float32)\n",
      "<tf.Variable 'Variable:0' shape=(5, 1) dtype=float32, numpy=\n",
      "array([[2.2220483],\n",
      "       [2.2220504],\n",
      "       [2.2220457],\n",
      "       [2.2220514],\n",
      "       [2.1937397]], dtype=float32)> tf.Tensor(\n",
      "[[-8.5830688e-06]\n",
      " [ 5.1021576e-05]\n",
      " [-6.7710876e-05]\n",
      " [ 6.7710876e-05]\n",
      " [-3.3378601e-05]], shape=(5, 1), dtype=float32)\n",
      "tf.Tensor(0.012255157, shape=(), dtype=float32)\n",
      "<tf.Variable 'Variable:0' shape=(5, 1) dtype=float32, numpy=\n",
      "array([[2.2220485],\n",
      "       [2.2220502],\n",
      "       [2.2220466],\n",
      "       [2.222051 ],\n",
      "       [2.1937401]], dtype=float32)> tf.Tensor(\n",
      "[[-2.67028809e-05]\n",
      " [ 1.50203705e-05]\n",
      " [-7.20024109e-05]\n",
      " [ 4.24385071e-05]\n",
      " [-3.31401825e-05]], shape=(5, 1), dtype=float32)\n",
      "tf.Tensor(0.0122551555, shape=(), dtype=float32)\n",
      "<tf.Variable 'Variable:0' shape=(5, 1) dtype=float32, numpy=\n",
      "array([[2.2220485],\n",
      "       [2.2220497],\n",
      "       [2.2220469],\n",
      "       [2.2220502],\n",
      "       [2.1937401]], dtype=float32)> tf.Tensor(\n",
      "[[ 4.2915344e-06]\n",
      " [ 4.2438507e-05]\n",
      " [-1.6927719e-05]\n",
      " [ 6.7949295e-05]\n",
      " [ 0.0000000e+00]], shape=(5, 1), dtype=float32)\n",
      "tf.Tensor(0.012255157, shape=(), dtype=float32)\n",
      "<tf.Variable 'Variable:0' shape=(5, 1) dtype=float32, numpy=\n",
      "array([[2.2220485],\n",
      "       [2.2220495],\n",
      "       [2.2220473],\n",
      "       [2.22205  ],\n",
      "       [2.1937404]], dtype=float32)> tf.Tensor(\n",
      "[[ 3.0994415e-06]\n",
      " [ 2.3365021e-05]\n",
      " [-3.8146973e-05]\n",
      " [ 2.5272369e-05]\n",
      " [-1.6689301e-05]], shape=(5, 1), dtype=float32)\n",
      "tf.Tensor(0.0122551555, shape=(), dtype=float32)\n",
      "<tf.Variable 'Variable:0' shape=(5, 1) dtype=float32, numpy=\n",
      "array([[2.2220483],\n",
      "       [2.2220492],\n",
      "       [2.2220476],\n",
      "       [2.2220497],\n",
      "       [2.1937406]], dtype=float32)> tf.Tensor(\n",
      "[[ 1.1682510e-05]\n",
      " [ 2.3365021e-05]\n",
      " [-2.1219254e-05]\n",
      " [ 2.5510788e-05]\n",
      " [-1.6689301e-05]], shape=(5, 1), dtype=float32)\n",
      "tf.Tensor(0.012255157, shape=(), dtype=float32)\n",
      "<tf.Variable 'Variable:0' shape=(5, 1) dtype=float32, numpy=\n",
      "array([[2.2220485],\n",
      "       [2.2220492],\n",
      "       [2.2220478],\n",
      "       [2.2220492],\n",
      "       [2.1937406]], dtype=float32)> tf.Tensor(\n",
      "[[-1.2874603e-05]\n",
      " [ 8.3446503e-06]\n",
      " [-1.6689301e-05]\n",
      " [ 3.3855438e-05]\n",
      " [ 0.0000000e+00]], shape=(5, 1), dtype=float32)\n",
      "tf.Tensor(0.012255157, shape=(), dtype=float32)\n",
      "<tf.Variable 'Variable:0' shape=(5, 1) dtype=float32, numpy=\n",
      "array([[2.2220485],\n",
      "       [2.2220492],\n",
      "       [2.222048 ],\n",
      "       [2.222049 ],\n",
      "       [2.1937406]], dtype=float32)> tf.Tensor(\n",
      "[[-4.7683716e-06]\n",
      " [ 7.3909760e-06]\n",
      " [-1.9073486e-05]\n",
      " [ 1.2636185e-05]\n",
      " [-8.3446503e-06]], shape=(5, 1), dtype=float32)\n",
      "tf.Tensor(0.012255157, shape=(), dtype=float32)\n",
      "<tf.Variable 'Variable:0' shape=(5, 1) dtype=float32, numpy=\n",
      "array([[2.2220483],\n",
      "       [2.222049 ],\n",
      "       [2.222048 ],\n",
      "       [2.222049 ],\n",
      "       [2.1937408]], dtype=float32)> tf.Tensor(\n",
      "[[ 1.0728836e-05]\n",
      " [ 2.0980835e-05]\n",
      " [-8.3446503e-06]\n",
      " [ 0.0000000e+00]\n",
      " [-1.6689301e-05]], shape=(5, 1), dtype=float32)\n",
      "tf.Tensor(0.012255157, shape=(), dtype=float32)\n",
      "<tf.Variable 'Variable:0' shape=(5, 1) dtype=float32, numpy=\n",
      "array([[2.2220485],\n",
      "       [2.2220492],\n",
      "       [2.2220483],\n",
      "       [2.222049 ],\n",
      "       [2.193741 ]], dtype=float32)> tf.Tensor(\n",
      "[[-2.21729279e-05]\n",
      " [-1.04904175e-05]\n",
      " [-2.12192535e-05]\n",
      " [-8.34465027e-06]\n",
      " [-1.66893005e-05]], shape=(5, 1), dtype=float32)\n",
      "tf.Tensor(0.0122551555, shape=(), dtype=float32)\n",
      "<tf.Variable 'Variable:0' shape=(5, 1) dtype=float32, numpy=\n",
      "array([[2.2220485],\n",
      "       [2.222049 ],\n",
      "       [2.222048 ],\n",
      "       [2.2220488],\n",
      "       [2.193741 ]], dtype=float32)> tf.Tensor(\n",
      "[[2.86102295e-06]\n",
      " [2.21729279e-05]\n",
      " [1.04904175e-05]\n",
      " [2.12192535e-05]\n",
      " [8.34465027e-06]], shape=(5, 1), dtype=float32)\n"
     ]
    }
   ],
   "source": [
    "predict_horizon = 5\n",
    "control_horizon = 5\n",
    "Q = tf.eye(predict_horizon)\n",
    "R = tf.eye(predict_horizon)\n",
    "u_sequence = tf.ones((control_horizon, 1), dtype=tf.float32)\n",
    "u_sequence = tf.Variable(u_sequence, trainable=True)\n",
    "y_ref = 10\n",
    "x0 = 1\n",
    "u0 = tf.constant([[1]], dtype=tf.float32)\n",
    "opt = optimizer('sgd', 0.1, 1, exponential_decay=True)\n",
    "print(u_sequence)\n",
    "for j in range(50):\n",
    "    y_pred_sequence,jacobian, u_sequence = slove_y_jacobian(u_sequence,x0)\n",
    "    b = 1.5/(tf.norm(jacobian)**2)\n",
    "    print(b)\n",
    "    a = np.ones((predict_horizon,predict_horizon))\n",
    "    for i in range(predict_horizon):\n",
    "        a[i] = tf.squeeze(jacobian[i])\n",
    "    jacobian = tf.constant(a, dtype=tf.float32)\n",
    "    gradient = 2*tf.transpose(jacobian) @ (y_pred_sequence-y_ref)+1*u_sequence\n",
    "    u_sequence = tf.Variable(u_sequence - b*gradient,trainable=True)\n",
    "    x0 = y_pred_sequence[0].numpy()\n",
    "    print(u_sequence,gradient)"
   ],
   "metadata": {
    "collapsed": false,
    "pycharm": {
     "name": "#%%\n"
    }
   }
  },
  {
   "cell_type": "code",
   "execution_count": 295,
   "outputs": [
    {
     "data": {
      "text/plain": "<tf.Tensor: shape=(5, 1), dtype=float32, numpy=\narray([[9.874999],\n       [9.875002],\n       [9.875   ],\n       [9.875002],\n       [9.750001]], dtype=float32)>"
     },
     "execution_count": 295,
     "metadata": {},
     "output_type": "execute_result"
    }
   ],
   "source": [
    "y_pred_sequence"
   ],
   "metadata": {
    "collapsed": false,
    "pycharm": {
     "name": "#%%\n"
    }
   }
  },
  {
   "cell_type": "code",
   "execution_count": 197,
   "outputs": [
    {
     "data": {
      "text/plain": "<tf.Tensor: shape=(), dtype=float32, numpy=0.4008779>"
     },
     "execution_count": 197,
     "metadata": {},
     "output_type": "execute_result"
    }
   ],
   "source": [
    "2/tf.norm(jacobian)"
   ],
   "metadata": {
    "collapsed": false,
    "pycharm": {
     "name": "#%%\n"
    }
   }
  },
  {
   "cell_type": "code",
   "execution_count": 416,
   "outputs": [
    {
     "name": "stdout",
     "output_type": "stream",
     "text": [
      "<tf.Variable 'Variable:0' shape=(1, 1) dtype=float32, numpy=array([[1.]], dtype=float32)>\n",
      "tf.Tensor([[0.00920334]], shape=(1, 1), dtype=float32)\n",
      "<tf.Variable 'Variable:0' shape=(1, 1) dtype=float32, numpy=array([[3.]], dtype=float32)> tf.Tensor([[-263.08594]], shape=(1, 1), dtype=float32)\n",
      "tf.Tensor([[0.00102259]], shape=(1, 1), dtype=float32)\n",
      "<tf.Variable 'Variable:0' shape=(1, 1) dtype=float32, numpy=array([[2.4618645]], dtype=float32)> tf.Tensor([[526.2461]], shape=(1, 1), dtype=float32)\n",
      "tf.Tensor([[0.00151851]], shape=(1, 1), dtype=float32)\n",
      "<tf.Variable 'Variable:0' shape=(1, 1) dtype=float32, numpy=array([[2.2467365]], dtype=float32)> tf.Tensor([[141.67068]], shape=(1, 1), dtype=float32)\n",
      "tf.Tensor([[0.00182323]], shape=(1, 1), dtype=float32)\n",
      "<tf.Variable 'Variable:0' shape=(1, 1) dtype=float32, numpy=array([[2.2120516]], dtype=float32)> tf.Tensor([[19.023897]], shape=(1, 1), dtype=float32)\n",
      "tf.Tensor([[0.00188085]], shape=(1, 1), dtype=float32)\n",
      "<tf.Variable 'Variable:0' shape=(1, 1) dtype=float32, numpy=array([[2.2207263]], dtype=float32)> tf.Tensor([[-4.612127]], shape=(1, 1), dtype=float32)\n",
      "tf.Tensor([[0.00186619]], shape=(1, 1), dtype=float32)\n",
      "<tf.Variable 'Variable:0' shape=(1, 1) dtype=float32, numpy=array([[2.2283814]], dtype=float32)> tf.Tensor([[-4.102011]], shape=(1, 1), dtype=float32)\n",
      "tf.Tensor([[0.00185339]], shape=(1, 1), dtype=float32)\n",
      "<tf.Variable 'Variable:0' shape=(1, 1) dtype=float32, numpy=array([[2.2313778]], dtype=float32)> tf.Tensor([[-1.6167445]], shape=(1, 1), dtype=float32)\n",
      "tf.Tensor([[0.00184841]], shape=(1, 1), dtype=float32)\n",
      "<tf.Variable 'Variable:0' shape=(1, 1) dtype=float32, numpy=array([[2.2321656]], dtype=float32)> tf.Tensor([[-0.4262085]], shape=(1, 1), dtype=float32)\n",
      "tf.Tensor([[0.00184711]], shape=(1, 1), dtype=float32)\n",
      "<tf.Variable 'Variable:0' shape=(1, 1) dtype=float32, numpy=array([[2.2322812]], dtype=float32)> tf.Tensor([[-0.06256819]], shape=(1, 1), dtype=float32)\n",
      "tf.Tensor([[0.00184692]], shape=(1, 1), dtype=float32)\n",
      "<tf.Variable 'Variable:0' shape=(1, 1) dtype=float32, numpy=array([[2.232266]], dtype=float32)> tf.Tensor([[0.00829554]], shape=(1, 1), dtype=float32)\n",
      "tf.Tensor([[0.00184694]], shape=(1, 1), dtype=float32)\n",
      "<tf.Variable 'Variable:0' shape=(1, 1) dtype=float32, numpy=array([[2.2322474]], dtype=float32)> tf.Tensor([[0.01002097]], shape=(1, 1), dtype=float32)\n",
      "tf.Tensor([[0.00184697]], shape=(1, 1), dtype=float32)\n",
      "<tf.Variable 'Variable:0' shape=(1, 1) dtype=float32, numpy=array([[2.2322397]], dtype=float32)> tf.Tensor([[0.00412655]], shape=(1, 1), dtype=float32)\n",
      "tf.Tensor([[0.00184699]], shape=(1, 1), dtype=float32)\n",
      "<tf.Variable 'Variable:0' shape=(1, 1) dtype=float32, numpy=array([[2.2322376]], dtype=float32)> tf.Tensor([[0.00121164]], shape=(1, 1), dtype=float32)\n",
      "tf.Tensor([[0.00184699]], shape=(1, 1), dtype=float32)\n",
      "<tf.Variable 'Variable:0' shape=(1, 1) dtype=float32, numpy=array([[2.232237]], dtype=float32)> tf.Tensor([[0.00032091]], shape=(1, 1), dtype=float32)\n",
      "tf.Tensor([[0.00184699]], shape=(1, 1), dtype=float32)\n",
      "<tf.Variable 'Variable:0' shape=(1, 1) dtype=float32, numpy=array([[2.232237]], dtype=float32)> tf.Tensor([[-2.503395e-05]], shape=(1, 1), dtype=float32)\n",
      "tf.Tensor([[0.00184699]], shape=(1, 1), dtype=float32)\n",
      "<tf.Variable 'Variable:0' shape=(1, 1) dtype=float32, numpy=array([[2.232237]], dtype=float32)> tf.Tensor([[-6.1273575e-05]], shape=(1, 1), dtype=float32)\n",
      "tf.Tensor([[0.00184699]], shape=(1, 1), dtype=float32)\n",
      "<tf.Variable 'Variable:0' shape=(1, 1) dtype=float32, numpy=array([[2.2322373]], dtype=float32)> tf.Tensor([[-8.249283e-05]], shape=(1, 1), dtype=float32)\n",
      "tf.Tensor([[0.00184699]], shape=(1, 1), dtype=float32)\n",
      "<tf.Variable 'Variable:0' shape=(1, 1) dtype=float32, numpy=array([[2.2322373]], dtype=float32)> tf.Tensor([[4.6014786e-05]], shape=(1, 1), dtype=float32)\n",
      "tf.Tensor([[0.00184699]], shape=(1, 1), dtype=float32)\n",
      "<tf.Variable 'Variable:0' shape=(1, 1) dtype=float32, numpy=array([[2.2322373]], dtype=float32)> tf.Tensor([[4.6014786e-05]], shape=(1, 1), dtype=float32)\n",
      "tf.Tensor([[0.00184699]], shape=(1, 1), dtype=float32)\n",
      "<tf.Variable 'Variable:0' shape=(1, 1) dtype=float32, numpy=array([[2.2322373]], dtype=float32)> tf.Tensor([[4.6014786e-05]], shape=(1, 1), dtype=float32)\n",
      "tf.Tensor([[0.00184699]], shape=(1, 1), dtype=float32)\n",
      "<tf.Variable 'Variable:0' shape=(1, 1) dtype=float32, numpy=array([[2.2322373]], dtype=float32)> tf.Tensor([[4.6014786e-05]], shape=(1, 1), dtype=float32)\n",
      "tf.Tensor([[0.00184699]], shape=(1, 1), dtype=float32)\n",
      "<tf.Variable 'Variable:0' shape=(1, 1) dtype=float32, numpy=array([[2.2322373]], dtype=float32)> tf.Tensor([[4.6014786e-05]], shape=(1, 1), dtype=float32)\n",
      "tf.Tensor([[0.00184699]], shape=(1, 1), dtype=float32)\n",
      "<tf.Variable 'Variable:0' shape=(1, 1) dtype=float32, numpy=array([[2.2322373]], dtype=float32)> tf.Tensor([[4.6014786e-05]], shape=(1, 1), dtype=float32)\n",
      "tf.Tensor([[0.00184699]], shape=(1, 1), dtype=float32)\n",
      "<tf.Variable 'Variable:0' shape=(1, 1) dtype=float32, numpy=array([[2.2322373]], dtype=float32)> tf.Tensor([[4.6014786e-05]], shape=(1, 1), dtype=float32)\n",
      "tf.Tensor([[0.00184699]], shape=(1, 1), dtype=float32)\n",
      "<tf.Variable 'Variable:0' shape=(1, 1) dtype=float32, numpy=array([[2.2322373]], dtype=float32)> tf.Tensor([[4.6014786e-05]], shape=(1, 1), dtype=float32)\n",
      "tf.Tensor([[0.00184699]], shape=(1, 1), dtype=float32)\n",
      "<tf.Variable 'Variable:0' shape=(1, 1) dtype=float32, numpy=array([[2.2322373]], dtype=float32)> tf.Tensor([[4.6014786e-05]], shape=(1, 1), dtype=float32)\n",
      "tf.Tensor([[0.00184699]], shape=(1, 1), dtype=float32)\n",
      "<tf.Variable 'Variable:0' shape=(1, 1) dtype=float32, numpy=array([[2.2322373]], dtype=float32)> tf.Tensor([[4.6014786e-05]], shape=(1, 1), dtype=float32)\n",
      "tf.Tensor([[0.00184699]], shape=(1, 1), dtype=float32)\n",
      "<tf.Variable 'Variable:0' shape=(1, 1) dtype=float32, numpy=array([[2.2322373]], dtype=float32)> tf.Tensor([[4.6014786e-05]], shape=(1, 1), dtype=float32)\n",
      "tf.Tensor([[0.00184699]], shape=(1, 1), dtype=float32)\n",
      "<tf.Variable 'Variable:0' shape=(1, 1) dtype=float32, numpy=array([[2.2322373]], dtype=float32)> tf.Tensor([[4.6014786e-05]], shape=(1, 1), dtype=float32)\n",
      "tf.Tensor([[0.00184699]], shape=(1, 1), dtype=float32)\n",
      "<tf.Variable 'Variable:0' shape=(1, 1) dtype=float32, numpy=array([[2.2322373]], dtype=float32)> tf.Tensor([[4.6014786e-05]], shape=(1, 1), dtype=float32)\n",
      "tf.Tensor([[0.00184699]], shape=(1, 1), dtype=float32)\n",
      "<tf.Variable 'Variable:0' shape=(1, 1) dtype=float32, numpy=array([[2.2322373]], dtype=float32)> tf.Tensor([[4.6014786e-05]], shape=(1, 1), dtype=float32)\n",
      "tf.Tensor([[0.00184699]], shape=(1, 1), dtype=float32)\n",
      "<tf.Variable 'Variable:0' shape=(1, 1) dtype=float32, numpy=array([[2.2322373]], dtype=float32)> tf.Tensor([[4.6014786e-05]], shape=(1, 1), dtype=float32)\n",
      "tf.Tensor([[0.00184699]], shape=(1, 1), dtype=float32)\n",
      "<tf.Variable 'Variable:0' shape=(1, 1) dtype=float32, numpy=array([[2.2322373]], dtype=float32)> tf.Tensor([[4.6014786e-05]], shape=(1, 1), dtype=float32)\n",
      "tf.Tensor([[0.00184699]], shape=(1, 1), dtype=float32)\n",
      "<tf.Variable 'Variable:0' shape=(1, 1) dtype=float32, numpy=array([[2.2322373]], dtype=float32)> tf.Tensor([[4.6014786e-05]], shape=(1, 1), dtype=float32)\n",
      "tf.Tensor([[0.00184699]], shape=(1, 1), dtype=float32)\n",
      "<tf.Variable 'Variable:0' shape=(1, 1) dtype=float32, numpy=array([[2.2322373]], dtype=float32)> tf.Tensor([[4.6014786e-05]], shape=(1, 1), dtype=float32)\n",
      "tf.Tensor([[0.00184699]], shape=(1, 1), dtype=float32)\n",
      "<tf.Variable 'Variable:0' shape=(1, 1) dtype=float32, numpy=array([[2.2322373]], dtype=float32)> tf.Tensor([[4.6014786e-05]], shape=(1, 1), dtype=float32)\n",
      "tf.Tensor([[0.00184699]], shape=(1, 1), dtype=float32)\n",
      "<tf.Variable 'Variable:0' shape=(1, 1) dtype=float32, numpy=array([[2.2322373]], dtype=float32)> tf.Tensor([[4.6014786e-05]], shape=(1, 1), dtype=float32)\n",
      "tf.Tensor([[0.00184699]], shape=(1, 1), dtype=float32)\n",
      "<tf.Variable 'Variable:0' shape=(1, 1) dtype=float32, numpy=array([[2.2322373]], dtype=float32)> tf.Tensor([[4.6014786e-05]], shape=(1, 1), dtype=float32)\n",
      "tf.Tensor([[0.00184699]], shape=(1, 1), dtype=float32)\n",
      "<tf.Variable 'Variable:0' shape=(1, 1) dtype=float32, numpy=array([[2.2322373]], dtype=float32)> tf.Tensor([[4.6014786e-05]], shape=(1, 1), dtype=float32)\n",
      "tf.Tensor([[0.00184699]], shape=(1, 1), dtype=float32)\n",
      "<tf.Variable 'Variable:0' shape=(1, 1) dtype=float32, numpy=array([[2.2322373]], dtype=float32)> tf.Tensor([[4.6014786e-05]], shape=(1, 1), dtype=float32)\n",
      "tf.Tensor([[0.00184699]], shape=(1, 1), dtype=float32)\n",
      "<tf.Variable 'Variable:0' shape=(1, 1) dtype=float32, numpy=array([[2.2322373]], dtype=float32)> tf.Tensor([[4.6014786e-05]], shape=(1, 1), dtype=float32)\n",
      "tf.Tensor([[0.00184699]], shape=(1, 1), dtype=float32)\n",
      "<tf.Variable 'Variable:0' shape=(1, 1) dtype=float32, numpy=array([[2.2322373]], dtype=float32)> tf.Tensor([[4.6014786e-05]], shape=(1, 1), dtype=float32)\n",
      "tf.Tensor([[0.00184699]], shape=(1, 1), dtype=float32)\n",
      "<tf.Variable 'Variable:0' shape=(1, 1) dtype=float32, numpy=array([[2.2322373]], dtype=float32)> tf.Tensor([[4.6014786e-05]], shape=(1, 1), dtype=float32)\n",
      "tf.Tensor([[0.00184699]], shape=(1, 1), dtype=float32)\n",
      "<tf.Variable 'Variable:0' shape=(1, 1) dtype=float32, numpy=array([[2.2322373]], dtype=float32)> tf.Tensor([[4.6014786e-05]], shape=(1, 1), dtype=float32)\n",
      "tf.Tensor([[0.00184699]], shape=(1, 1), dtype=float32)\n",
      "<tf.Variable 'Variable:0' shape=(1, 1) dtype=float32, numpy=array([[2.2322373]], dtype=float32)> tf.Tensor([[4.6014786e-05]], shape=(1, 1), dtype=float32)\n",
      "tf.Tensor([[0.00184699]], shape=(1, 1), dtype=float32)\n",
      "<tf.Variable 'Variable:0' shape=(1, 1) dtype=float32, numpy=array([[2.2322373]], dtype=float32)> tf.Tensor([[4.6014786e-05]], shape=(1, 1), dtype=float32)\n",
      "tf.Tensor([[0.00184699]], shape=(1, 1), dtype=float32)\n",
      "<tf.Variable 'Variable:0' shape=(1, 1) dtype=float32, numpy=array([[2.2322373]], dtype=float32)> tf.Tensor([[4.6014786e-05]], shape=(1, 1), dtype=float32)\n",
      "tf.Tensor([[0.00184699]], shape=(1, 1), dtype=float32)\n",
      "<tf.Variable 'Variable:0' shape=(1, 1) dtype=float32, numpy=array([[2.2322373]], dtype=float32)> tf.Tensor([[4.6014786e-05]], shape=(1, 1), dtype=float32)\n",
      "tf.Tensor([[0.00184699]], shape=(1, 1), dtype=float32)\n",
      "<tf.Variable 'Variable:0' shape=(1, 1) dtype=float32, numpy=array([[2.2322373]], dtype=float32)> tf.Tensor([[4.6014786e-05]], shape=(1, 1), dtype=float32)\n",
      "tf.Tensor([[0.00184699]], shape=(1, 1), dtype=float32)\n",
      "<tf.Variable 'Variable:0' shape=(1, 1) dtype=float32, numpy=array([[2.2322373]], dtype=float32)> tf.Tensor([[4.6014786e-05]], shape=(1, 1), dtype=float32)\n"
     ]
    }
   ],
   "source": [
    "predict_horizon = 5\n",
    "control_horizon = 1\n",
    "Q = tf.eye(predict_horizon)\n",
    "R = tf.eye(predict_horizon)\n",
    "u_sequence = tf.ones((control_horizon, 1), dtype=tf.float32)\n",
    "u_sequence = tf.Variable(u_sequence, trainable=True)\n",
    "y_ref = 10\n",
    "x0 = 1\n",
    "u0 = tf.constant([[1]], dtype=tf.float32)\n",
    "opt = optimizer('sgd', 0.1, 1, exponential_decay=True)\n",
    "print(u_sequence)\n",
    "for j in range(50):\n",
    "    y_pred_sequence,jacobian, u_sequence = slove_y_jacobian(u_sequence,x0)\n",
    "    new_u0 = tf.concat((u0, u_sequence[:-1]), axis=0)\n",
    "    delta_u = u_sequence - new_u0\n",
    "    # a = np.ones((predict_horizon,predict_horizon))\n",
    "    # for i in range(predict_horizon):\n",
    "    #     a[i] = tf.squeeze(jacobian[i])\n",
    "    # jacobian = tf.constant(a, dtype=tf.float32)\n",
    "    jacobian = tf.reshape(jacobian, [-1,control_horizon])\n",
    "    b = 0.5/(tf.transpose(jacobian)@jacobian)\n",
    "    # b = 1.0/(tf.norm(jacobian,ord=2)**2)\n",
    "    print(b)\n",
    "    gradient = 2*tf.transpose(jacobian) @ (y_pred_sequence-y_ref)+2*delta_u\n",
    "    u_sequence = tf.clip_by_value(u_sequence - b*gradient, 0, 3)\n",
    "    u_sequence = tf.Variable(u_sequence,trainable=True)\n",
    "    x0 = y_pred_sequence[0].numpy()\n",
    "    print(u_sequence,gradient)"
   ],
   "metadata": {
    "collapsed": false,
    "pycharm": {
     "name": "#%%\n"
    }
   }
  },
  {
   "cell_type": "code",
   "execution_count": 417,
   "outputs": [
    {
     "data": {
      "text/plain": "<tf.Tensor: shape=(5, 1), dtype=float32, numpy=\narray([[9.965767],\n       [9.965767],\n       [9.965767],\n       [9.965767],\n       [9.965767]], dtype=float32)>"
     },
     "execution_count": 417,
     "metadata": {},
     "output_type": "execute_result"
    }
   ],
   "source": [
    "y_pred_sequence"
   ],
   "metadata": {
    "collapsed": false,
    "pycharm": {
     "name": "#%%\n"
    }
   }
  },
  {
   "cell_type": "code",
   "execution_count": 420,
   "outputs": [
    {
     "name": "stdout",
     "output_type": "stream",
     "text": [
      "tf.Tensor([[0.00184699]], shape=(1, 1), dtype=float32)\n"
     ]
    }
   ],
   "source": [
    "b = 0.5/(tf.transpose(jacobian)@jacobian)\n",
    "# b = 0.5/(tf.norm(jacobian,ord=2)**2)\n",
    "print(b)"
   ],
   "metadata": {
    "collapsed": false,
    "pycharm": {
     "name": "#%%\n"
    }
   }
  },
  {
   "cell_type": "code",
   "execution_count": 421,
   "outputs": [
    {
     "data": {
      "text/plain": "<tf.Tensor: shape=(), dtype=float32, numpy=472286140.0>"
     },
     "execution_count": 421,
     "metadata": {},
     "output_type": "execute_result"
    }
   ],
   "source": [
    "1/tf.norm(tf.transpose(gradient)@gradient)"
   ],
   "metadata": {
    "collapsed": false,
    "pycharm": {
     "name": "#%%\n"
    }
   }
  },
  {
   "cell_type": "code",
   "execution_count": 296,
   "outputs": [
    {
     "data": {
      "text/plain": "<tf.Tensor: shape=(5, 5), dtype=float32, numpy=\narray([[4.444097  , 0.        , 0.        , 0.        , 0.        ],\n       [2.2220485 , 4.4440985 , 0.        , 0.        , 0.        ],\n       [1.1110243 , 2.2220492 , 4.4440966 , 0.        , 0.        ],\n       [0.55551213, 1.1110246 , 2.2220483 , 4.444098  , 0.        ],\n       [0.27775607, 0.5555123 , 1.1110241 , 2.222049  , 4.387482  ]],\n      dtype=float32)>"
     },
     "execution_count": 296,
     "metadata": {},
     "output_type": "execute_result"
    }
   ],
   "source": [
    "jacobian"
   ],
   "metadata": {
    "collapsed": false,
    "pycharm": {
     "name": "#%%\n"
    }
   }
  },
  {
   "cell_type": "code",
   "execution_count": 297,
   "outputs": [
    {
     "data": {
      "text/plain": "<tf.Tensor: shape=(5, 5), dtype=float32, numpy=\narray([[26.322006 , 13.122408 ,  6.4840136,  3.0876255,  1.218771 ],\n       [13.122408 , 26.244816 , 12.968027 ,  6.175251 ,  2.437542 ],\n       [ 6.4840136, 12.968027 , 25.936054 , 12.350502 ,  4.875084 ],\n       [ 3.0876255,  6.175251 , 12.350502 , 24.701004 ,  9.750168 ],\n       [ 1.218771 ,  2.437542 ,  4.875084 ,  9.750168 , 19.243301 ]],\n      dtype=float32)>"
     },
     "execution_count": 297,
     "metadata": {},
     "output_type": "execute_result"
    }
   ],
   "source": [
    "tf.transpose(jacobian)@jacobian"
   ],
   "metadata": {
    "collapsed": false,
    "pycharm": {
     "name": "#%%\n"
    }
   }
  },
  {
   "cell_type": "code",
   "execution_count": 306,
   "outputs": [
    {
     "data": {
      "text/plain": "<tf.Tensor: shape=(), dtype=float32, numpy=11.063339>"
     },
     "execution_count": 306,
     "metadata": {},
     "output_type": "execute_result"
    }
   ],
   "source": [
    "tf.sqrt(tf.reduce_sum(jacobian*jacobian))"
   ],
   "metadata": {
    "collapsed": false,
    "pycharm": {
     "name": "#%%\n"
    }
   }
  },
  {
   "cell_type": "code",
   "execution_count": 301,
   "outputs": [
    {
     "name": "stdout",
     "output_type": "stream",
     "text": [
      "Frobenius范数: tf.Tensor(5.4772253, shape=(), dtype=float32)\n"
     ]
    }
   ],
   "source": [
    "import tensorflow as tf\n",
    "\n",
    "# 创建一个矩阵\n",
    "matrix = tf.constant([[1.0, 2.0], [3.0, 4.0]])\n",
    "\n",
    "# 计算矩阵的二范数（Frobenius范数）\n",
    "fro_norm = tf.norm(matrix, ord=2)\n",
    "\n",
    "# 输出结果\n",
    "print(\"Frobenius范数:\", fro_norm)\n"
   ],
   "metadata": {
    "collapsed": false,
    "pycharm": {
     "name": "#%%\n"
    }
   }
  },
  {
   "cell_type": "code",
   "execution_count": 302,
   "outputs": [
    {
     "data": {
      "text/plain": "<tf.Tensor: shape=(), dtype=float32, numpy=11.063339>"
     },
     "execution_count": 302,
     "metadata": {},
     "output_type": "execute_result"
    }
   ],
   "source": [
    "tf.norm(jacobian, ord=2)"
   ],
   "metadata": {
    "collapsed": false,
    "pycharm": {
     "name": "#%%\n"
    }
   }
  },
  {
   "cell_type": "code",
   "execution_count": 317,
   "outputs": [
    {
     "data": {
      "text/plain": "<tf.Tensor: shape=(), dtype=float32, numpy=0.0122551555>"
     },
     "execution_count": 317,
     "metadata": {},
     "output_type": "execute_result"
    }
   ],
   "source": [
    "1.5/(tf.norm(jacobian,ord=2)**2)"
   ],
   "metadata": {
    "collapsed": false,
    "pycharm": {
     "name": "#%%\n"
    }
   }
  },
  {
   "cell_type": "code",
   "execution_count": 312,
   "outputs": [
    {
     "data": {
      "text/plain": "<tf.Tensor: shape=(), dtype=float32, numpy=0.02247963>"
     },
     "execution_count": 312,
     "metadata": {},
     "output_type": "execute_result"
    }
   ],
   "source": [
    "1.5/tf.norm(tf.transpose(jacobian)@jacobian,ord=2)"
   ],
   "metadata": {
    "collapsed": false,
    "pycharm": {
     "name": "#%%\n"
    }
   }
  },
  {
   "cell_type": "code",
   "execution_count": 313,
   "outputs": [
    {
     "data": {
      "text/plain": "<tf.Tensor: shape=(), dtype=float32, numpy=0.0332669>"
     },
     "execution_count": 313,
     "metadata": {},
     "output_type": "execute_result"
    }
   ],
   "source": [
    "1.5/tf.norm(jacobian * jacobian,ord=2)"
   ],
   "metadata": {
    "collapsed": false,
    "pycharm": {
     "name": "#%%\n"
    }
   }
  },
  {
   "cell_type": "code",
   "execution_count": 315,
   "outputs": [
    {
     "data": {
      "text/plain": "<tf.Tensor: shape=(), dtype=float32, numpy=0.13558294>"
     },
     "execution_count": 315,
     "metadata": {},
     "output_type": "execute_result"
    }
   ],
   "source": [
    "1.5/tf.sqrt(tf.reduce_sum(jacobian*jacobian))"
   ],
   "metadata": {
    "collapsed": false,
    "pycharm": {
     "name": "#%%\n"
    }
   }
  },
  {
   "cell_type": "code",
   "execution_count": 379,
   "outputs": [
    {
     "name": "stdout",
     "output_type": "stream",
     "text": [
      "<tf.Variable 'Variable:0' shape=(1, 1) dtype=float32, numpy=array([[1.]], dtype=float32)>\n",
      "tf.Tensor(0.02761001, shape=(), dtype=float32)\n",
      "<tf.Variable 'Variable:0' shape=(1, 1) dtype=float32, numpy=array([[1.0441129]], dtype=float32)> tf.Tensor([[-131.54297]], shape=(1, 1), dtype=float32)\n"
     ]
    }
   ],
   "source": [
    "predict_horizon = 5\n",
    "control_horizon = 1\n",
    "Q = tf.eye(predict_horizon)\n",
    "R = tf.eye(predict_horizon)\n",
    "u_sequence = tf.ones((control_horizon, 1), dtype=tf.float32)\n",
    "u_sequence = tf.Variable(u_sequence, trainable=True)\n",
    "y_ref = 10\n",
    "x0 = 1\n",
    "u0 = tf.constant([[1]], dtype=tf.float32)\n",
    "opt = optimizer('sgd', 0.1, 1, exponential_decay=True)\n",
    "print(u_sequence)\n",
    "n =1\n",
    "c = 2\n",
    "for j in range(50):\n",
    "    y_pred_sequence,jacobian, u_sequence = slove_y_jacobian(u_sequence,x0)\n",
    "    b = 1.5/(tf.norm(jacobian,ord=2)**2)\n",
    "    print(b)\n",
    "    new_u0 = tf.concat((u0, u_sequence[:-1]), axis=0)\n",
    "    delta_u = u_sequence - new_u0\n",
    "    y_pred_sequence,jacobian, u_sequence = slove_y_jacobian(u_sequence,x0)\n",
    "    # a = np.ones((predict_horizon,predict_horizon))\n",
    "    # for i in range(predict_horizon):\n",
    "    #     a[i] = tf.squeeze(jacobian[i])\n",
    "    # jacobian = tf.constant(a, dtype=tf.float32)\n",
    "    jacobian = tf.reshape(jacobian, [-1,control_horizon])\n",
    "    gradient = tf.transpose(jacobian) @ (y_pred_sequence-y_ref)\n",
    "    n = n * np.e**(-c*i)\n",
    "    c= c*(1-j*0.01)\n",
    "    u_sequence = tf.Variable(u_sequence - 1*n/(1+n)*gradient,trainable=True)\n",
    "    x0 = y_pred_sequence[0].numpy()\n",
    "    print(u_sequence,gradient)"
   ],
   "metadata": {
    "collapsed": false,
    "pycharm": {
     "name": "#%%\n"
    }
   }
  },
  {
   "cell_type": "code",
   "execution_count": 378,
   "outputs": [
    {
     "data": {
      "text/plain": "<tf.Tensor: shape=(5, 5), dtype=float32, numpy=\narray([[2.   , 0.   , 0.   , 0.   , 0.   ],\n       [1.   , 2.   , 0.   , 0.   , 0.   ],\n       [0.5  , 1.   , 2.   , 0.   , 0.   ],\n       [0.25 , 0.5  , 1.   , 2.   , 0.   ],\n       [0.125, 0.25 , 0.5  , 1.   , 2.   ]], dtype=float32)>"
     },
     "execution_count": 378,
     "metadata": {},
     "output_type": "execute_result"
    }
   ],
   "source": [
    "jacobian"
   ],
   "metadata": {
    "collapsed": false,
    "pycharm": {
     "name": "#%%\n"
    }
   }
  },
  {
   "cell_type": "code",
   "execution_count": 370,
   "outputs": [
    {
     "name": "stdout",
     "output_type": "stream",
     "text": [
      "<tf.Variable 'Variable:0' shape=(5, 1) dtype=float32, numpy=\n",
      "array([[1.],\n",
      "       [1.],\n",
      "       [1.],\n",
      "       [1.],\n",
      "       [1.]], dtype=float32)>\n",
      "tf.Tensor(\n",
      "[[2.    0.    0.    0.    0.   ]\n",
      " [1.    2.    0.    0.    0.   ]\n",
      " [0.5   1.    2.    0.    0.   ]\n",
      " [0.25  0.5   1.    2.    0.   ]\n",
      " [0.125 0.25  0.5   1.    2.   ]], shape=(5, 5), dtype=float32)\n"
     ]
    }
   ],
   "source": [
    "1.5 / tf.norm(jacobian * jacobian, ord=2)\n",
    "1.5 / tf.sqrt(tf.reduce_sum(jacobian * jacobian))\n",
    "predict_horizon = 5\n",
    "control_horizon = 5\n",
    "Q = tf.eye(predict_horizon)\n",
    "R = tf.eye(predict_horizon)\n",
    "u_sequence = tf.ones((control_horizon, 1), dtype=tf.float32)\n",
    "u_sequence = tf.Variable(u_sequence, trainable=True)\n",
    "y_ref = 10\n",
    "x0 = 1\n",
    "u0 = tf.constant([[1]], dtype=tf.float32)\n",
    "opt = optimizer('sgd', 0.1, 1, exponential_decay=True)\n",
    "print(u_sequence)\n",
    "n = 1\n",
    "c = 2\n",
    "for j in range(1):\n",
    "    y_pred_sequence, jacobian, u_sequence = slove_y_jacobian(u_sequence, x0)\n",
    "    b = 1.5 / (tf.norm(jacobian, ord=2) ** 2)\n",
    "    # print(b)\n",
    "    new_u0 = tf.concat((u0, u_sequence[:-1]), axis=0)\n",
    "    delta_u = u_sequence - new_u0\n",
    "    y_pred_sequence, jacobian, u_sequence = slove_y_jacobian(u_sequence, x0)\n",
    "    print(tf.reshape(jacobian, [-1,control_horizon]))"
   ],
   "metadata": {
    "collapsed": false,
    "pycharm": {
     "name": "#%%\n"
    }
   }
  },
  {
   "cell_type": "code",
   "execution_count": 367,
   "outputs": [
    {
     "name": "stdout",
     "output_type": "stream",
     "text": [
      "tf.Tensor(\n",
      "[[2.    0.   ]\n",
      " [1.    2.   ]\n",
      " [0.5   3.   ]\n",
      " [0.25  3.5  ]\n",
      " [0.125 3.75 ]], shape=(5, 2), dtype=float32)\n"
     ]
    }
   ],
   "source": [
    "print(tf.reshape(jacobian, [-1,control_horizon]))"
   ],
   "metadata": {
    "collapsed": false,
    "pycharm": {
     "name": "#%%\n"
    }
   }
  },
  {
   "cell_type": "code",
   "execution_count": 363,
   "outputs": [
    {
     "data": {
      "text/plain": "<tf.Tensor: shape=(5, 2), dtype=float32, numpy=\narray([[2.   , 0.   ],\n       [1.   , 2.   ],\n       [0.5  , 3.   ],\n       [0.25 , 3.5  ],\n       [0.125, 3.75 ]], dtype=float32)>"
     },
     "execution_count": 363,
     "metadata": {},
     "output_type": "execute_result"
    }
   ],
   "source": [
    "tf.reshape(jacobian, [-1,2])"
   ],
   "metadata": {
    "collapsed": false,
    "pycharm": {
     "name": "#%%\n"
    }
   }
  },
  {
   "cell_type": "code",
   "execution_count": 422,
   "outputs": [
    {
     "data": {
      "text/plain": "<tf.Tensor: shape=(5, 1), dtype=float32, numpy=\narray([[9.965767],\n       [9.965767],\n       [9.965767],\n       [9.965767],\n       [9.965767]], dtype=float32)>"
     },
     "execution_count": 422,
     "metadata": {},
     "output_type": "execute_result"
    }
   ],
   "source": [
    "y_pred_sequence"
   ],
   "metadata": {
    "collapsed": false,
    "pycharm": {
     "name": "#%%\n"
    }
   }
  },
  {
   "cell_type": "code",
   "execution_count": 423,
   "outputs": [
    {
     "name": "stdout",
     "output_type": "stream",
     "text": [
      "1.0\n",
      "0.36787944117144233\n",
      "0.04978706836786395\n",
      "0.0024787521766663594\n",
      "4.539992976248488e-05\n",
      "3.0590232050182605e-07\n",
      "7.582560427911916e-10\n",
      "6.914400106940214e-13\n",
      "2.319522830243574e-16\n",
      "2.862518580549401e-20\n"
     ]
    }
   ],
   "source": [
    "a = 1\n",
    "for i in range(10):\n",
    "    a = a * np.e**(-i)\n",
    "    print(a)"
   ],
   "metadata": {
    "collapsed": false,
    "pycharm": {
     "name": "#%%\n"
    }
   }
  },
  {
   "cell_type": "code",
   "execution_count": 331,
   "outputs": [
    {
     "name": "stdout",
     "output_type": "stream",
     "text": [
      "2.718281828459045\n"
     ]
    }
   ],
   "source": [
    "\n",
    "print(np.e)"
   ],
   "metadata": {
    "collapsed": false,
    "pycharm": {
     "name": "#%%\n"
    }
   }
  }
 ],
 "metadata": {
  "kernelspec": {
   "display_name": "Python 3",
   "language": "python",
   "name": "python3"
  },
  "language_info": {
   "codemirror_mode": {
    "name": "ipython",
    "version": 2
   },
   "file_extension": ".py",
   "mimetype": "text/x-python",
   "name": "python",
   "nbconvert_exporter": "python",
   "pygments_lexer": "ipython2",
   "version": "2.7.6"
  }
 },
 "nbformat": 4,
 "nbformat_minor": 0
}